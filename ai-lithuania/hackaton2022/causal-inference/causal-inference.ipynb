{
 "cells": [
  {
   "cell_type": "markdown",
   "id": "9d6f63fb",
   "metadata": {},
   "source": [
    "Competition link: https://www.kaggle.com/competitions/aial-causal-inference"
   ]
  },
  {
   "cell_type": "markdown",
   "id": "3366286d",
   "metadata": {},
   "source": [
    "### Challenge\n",
    "This challenge requires to identify causal direction from two synthetically generated one-dimensional samples X and Y, where either Y=f(X) + E (denoted as X->Y), or visa versa. \n",
    "Here f is non-linear function, and E is noise, independent on X."
   ]
  },
  {
   "cell_type": "markdown",
   "id": "af60454a",
   "metadata": {},
   "source": [
    "### Data\n",
    "Challenge data consist of two sets of pairs (X,Y): public and private.\n",
    "Public data set consists of 1000 samples of pairs (X,Y) in the form of csv files, and associated (random) causal direction (X->Y or Y->X), indicated in the first line of the corresponding csv file.\n",
    "\n",
    "Private data set also is generated according to the same rules and format, but it is used only for model evaluation."
   ]
  },
  {
   "cell_type": "markdown",
   "id": "213a97a1",
   "metadata": {},
   "source": [
    "### Format\n",
    "Format. Each sample of pairs is saved as separate csv file, [id].csv, where id is integer from 0 to 1000 (sample ID). Ground truth is saved in ground_truth.csv (if provided).\n",
    "In addution, plot of each sample is provided [ID].png (for data review)."
   ]
  },
  {
   "cell_type": "markdown",
   "id": "80acd222",
   "metadata": {},
   "source": [
    "### Evaluation\n",
    "Task and evaluation measure The participants are required to construct a model F: F(X,Y) = 0 if X->Y, and F(X,Y) = 1 if Y->X with high accuracy. The accuracy evaluated on the private data set will be uset as the performance measure."
   ]
  },
  {
   "cell_type": "code",
   "execution_count": 513,
   "id": "a527d8f0",
   "metadata": {},
   "outputs": [],
   "source": [
    "import pandas as pd\n",
    "from sklearn import datasets, linear_model\n",
    "from sklearn.metrics import mean_squared_error, r2_score\n",
    "import seaborn as sns\n",
    "import numpy as np\n",
    "from statsmodels.formula.api import ols\n",
    "from statsmodels.stats.stattools import omni_normtest\n",
    "from numpy import cov\n",
    "from scipy.stats import pearsonr\n",
    "from scipy.stats import spearmanr\n",
    "from collections import Counter\n",
    "\n",
    "# 0 if X -> Y\n",
    "# 1 if Y -> X"
   ]
  },
  {
   "cell_type": "code",
   "execution_count": 41,
   "id": "e288fc55",
   "metadata": {},
   "outputs": [],
   "source": [
    "gt = pd.read_csv(\"public/ground_truth.csv\", header = None).iloc[:, 0]\n",
    "results = {}\n",
    "for i in range(len(gt)):\n",
    "    results[i] = gt[i]"
   ]
  },
  {
   "cell_type": "code",
   "execution_count": 511,
   "id": "7a3e8ade",
   "metadata": {},
   "outputs": [
    {
     "name": "stdout",
     "output_type": "stream",
     "text": [
      "0.95 687\n",
      "0.96 691\n",
      "0.97 698\n",
      "0.98 700\n",
      "0.99 703\n",
      "1.0 705\n",
      "1.01 708\n",
      "1.02 712\n",
      "1.03 709\n",
      "1.04 707\n"
     ]
    }
   ],
   "source": [
    "for m in range(-5,5,1):\n",
    "    multi = 1 + m/100\n",
    "    count = 0\n",
    "    for i in range(1000):\n",
    "        d = pd.read_csv(\"public/\"+str(i)+\".csv\", header = None, names = ['X', 'Y'])\n",
    "        d[\"changex\"] = d.X - d.X.shift()\n",
    "        d[\"changey\"] = d.Y - d.Y.shift()\n",
    "        d = d.dropna()\n",
    "        modelx = ols(formula = 'changex~changey', data=d).fit()\n",
    "        modely = ols(formula = 'changey~changex', data=d).fit()\n",
    "        if int(modelx.aic < modely.aic*multi) == results[i]:\n",
    "            count+=1\n",
    "    print(multi, count)"
   ]
  },
  {
   "cell_type": "markdown",
   "id": "9cde34b7",
   "metadata": {},
   "source": [
    "### No information rate\n",
    "Always predicting the bigger class has accuracy 50.8%\n",
    "### Baseline model\n",
    "Model with no multiplier has 70.5% accuracy\n",
    "### 0.01 granularity\n",
    "1.02 has accuracy 71.2%\n",
    "### 0.001 granularity\n",
    "range(1.020, 1.025) always has accuracy 71.2%\n",
    "### 0.0001 granularity\n",
    "range(1.0197, 1.0256) always has accuracy 71.2%\n",
    "\n",
    "I chose 1.023 as my multiplier"
   ]
  },
  {
   "cell_type": "code",
   "execution_count": 514,
   "id": "06f1808b",
   "metadata": {},
   "outputs": [
    {
     "data": {
      "text/plain": [
       "'71.2%'"
      ]
     },
     "execution_count": 514,
     "metadata": {},
     "output_type": "execute_result"
    }
   ],
   "source": [
    "multi = 1.023\n",
    "count = 0\n",
    "for i in range(1000):\n",
    "    d = pd.read_csv(\"public/\"+str(i)+\".csv\", header = None, names = ['X', 'Y'])\n",
    "    d[\"changex\"] = d.X - d.X.shift()\n",
    "    d[\"changey\"] = d.Y - d.Y.shift()\n",
    "    d = d.dropna()\n",
    "    #sns.scatterplot(data = d, x = \"changex\", y = \"changey\")\n",
    "    modelx = ols(formula = 'changex~changey', data=d).fit()\n",
    "    modely = ols(formula = 'changey~changex', data=d).fit()\n",
    "    #print(modelx.aic, modely.aic, int(modelx.aic < modely.aic), results[i])\n",
    "    if int(modelx.aic <= modely.aic*multi) == results[i]:\n",
    "        count+=1\n",
    "    \n",
    "str(count/10) + \"%\""
   ]
  },
  {
   "cell_type": "markdown",
   "id": "524beb5e",
   "metadata": {},
   "source": [
    "Other tried models which perform same or worse:\n",
    "1. Comparing by bic\n",
    "2. Comparing by log-likelihood\n",
    "3. Comparing by mse\n",
    "4. Comparing by resid mse\n",
    "4. Comparing by regressors p-values\n",
    "4. Comparing by intercept\n",
    "5. cov, cor on X, Y\n",
    "6. cov, cor on x change, y change\n",
    "7. logistic regression model from joint data"
   ]
  },
  {
   "cell_type": "code",
   "execution_count": 505,
   "id": "c9b5d971",
   "metadata": {},
   "outputs": [],
   "source": [
    "submission = []\n",
    "ids = []\n",
    "for i in range(1000):\n",
    "    d = pd.read_csv(\"private/\"+str(i)+\".csv\", header = None, names = ['X', 'Y'])\n",
    "    d[\"changex\"] = d.X - d.X.shift()\n",
    "    d[\"changey\"] = d.Y - d.Y.shift()\n",
    "    d = d.dropna()\n",
    "    modelx = ols(formula = 'changex~changey', data=d).fit()\n",
    "    modely = ols(formula = 'changey~changex', data=d).fit()\n",
    "    if modelx.aic < modely.aic*1.023:\n",
    "        submission.append(1)\n",
    "    else:\n",
    "        submission.append(0)\n",
    "    ids.append(i)"
   ]
  },
  {
   "cell_type": "code",
   "execution_count": 508,
   "id": "837a777a",
   "metadata": {},
   "outputs": [],
   "source": [
    "sub = pd.DataFrame({'id':ids, 'direction':submission})\n",
    "sub.to_csv(\"MG.csv\", header = True, index = False)"
   ]
  }
 ],
 "metadata": {
  "kernelspec": {
   "display_name": "Python 3 (ipykernel)",
   "language": "python",
   "name": "python3"
  },
  "language_info": {
   "codemirror_mode": {
    "name": "ipython",
    "version": 3
   },
   "file_extension": ".py",
   "mimetype": "text/x-python",
   "name": "python",
   "nbconvert_exporter": "python",
   "pygments_lexer": "ipython3",
   "version": "3.8.13"
  }
 },
 "nbformat": 4,
 "nbformat_minor": 5
}
