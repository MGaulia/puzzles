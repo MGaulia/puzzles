{
 "cells": [
  {
   "cell_type": "code",
   "execution_count": 59,
   "id": "0e9e6007",
   "metadata": {},
   "outputs": [],
   "source": [
    "def getrow(cols, filler = False):\n",
    "    res = \"\"\n",
    "    if filler:\n",
    "        res+=\"+\" + cols*\"-+\" + \"\\n\" \n",
    "    \n",
    "    if filler:\n",
    "        res+=\"|\" + cols*\".|\" + \"\\n\"\n",
    "    \n",
    "    return res\n",
    "\n",
    "def solve(rows, cols, case):\n",
    "    res = \"\"\n",
    "    res+= \"..+\" + (cols-1)*\"-+\" + \"\\n\"\n",
    "    res+= \"..|\" + (cols-1)*\".|\" + \"\\n\"\n",
    "\n",
    "    for r in range(1, rows):\n",
    "        res+=getrow(cols, filler = True)\n",
    "        res+=getrow(cols, filler = False)\n",
    "\n",
    "    res+=\"+\" + cols*\"-+\"\n",
    "    print(\"Case #\" + str(case) + \":\")\n",
    "    print(res)     "
   ]
  },
  {
   "cell_type": "code",
   "execution_count": 60,
   "id": "ebfe364f",
   "metadata": {
    "scrolled": true
   },
   "outputs": [
    {
     "name": "stdout",
     "output_type": "stream",
     "text": [
      "3\n",
      "3 4\n",
      "Case #1:\n",
      "..+-+-+-+\n",
      "..|.|.|.|\n",
      "+-+-+-+-+\n",
      "|.|.|.|.|\n",
      "+-+-+-+-+\n",
      "|.|.|.|.|\n",
      "+-+-+-+-+\n",
      "2 2\n",
      "Case #2:\n",
      "..+-+\n",
      "..|.|\n",
      "+-+-+\n",
      "|.|.|\n",
      "+-+-+\n",
      "2 3\n",
      "Case #3:\n",
      "..+-+-+\n",
      "..|.|.|\n",
      "+-+-+-+\n",
      "|.|.|.|\n",
      "+-+-+-+\n"
     ]
    }
   ],
   "source": [
    "T = int(input())\n",
    "text = []\n",
    "for i in range(T):\n",
    "    rows, cols = [int(t) for t in input().split()]\n",
    "    solve(rows, cols, i+1)"
   ]
  },
  {
   "cell_type": "code",
   "execution_count": null,
   "id": "ae1808bf",
   "metadata": {},
   "outputs": [],
   "source": []
  }
 ],
 "metadata": {
  "kernelspec": {
   "display_name": "Python 3 (ipykernel)",
   "language": "python",
   "name": "python3"
  },
  "language_info": {
   "codemirror_mode": {
    "name": "ipython",
    "version": 3
   },
   "file_extension": ".py",
   "mimetype": "text/x-python",
   "name": "python",
   "nbconvert_exporter": "python",
   "pygments_lexer": "ipython3",
   "version": "3.9.9"
  }
 },
 "nbformat": 4,
 "nbformat_minor": 5
}
