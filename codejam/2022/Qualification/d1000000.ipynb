{
 "cells": [
  {
   "cell_type": "code",
   "execution_count": 22,
   "id": "194ceba8",
   "metadata": {},
   "outputs": [],
   "source": [
    "def solve(t, case):\n",
    "    if min(t) >= len(t):\n",
    "        print(\"Case #\" + str(case) + \": \" + str(len(t)))\n",
    "        \n",
    "    else:\n",
    "        t.sort()\n",
    "        res = 0\n",
    "        for i in t:\n",
    "            if res < i:\n",
    "                res+=1\n",
    "        \n",
    "        print(\"Case #\" + str(case) + \": \" + str(res))\n",
    "    "
   ]
  },
  {
   "cell_type": "code",
   "execution_count": 24,
   "id": "4a040129",
   "metadata": {},
   "outputs": [
    {
     "name": "stdout",
     "output_type": "stream",
     "text": [
      "4\n",
      "4\n",
      "6 10 12 8\n",
      "Case #1: 4\n",
      "6\n",
      "5 4 5 4 4 4\n",
      "Case #2: 5\n",
      "10\n",
      "10 10 7 6 7 4 4 5 7 4\n",
      "Case #3: 9\n",
      "1\n",
      "10\n",
      "Case #4: 1\n"
     ]
    }
   ],
   "source": [
    "T = int(input())\n",
    "inputs = []\n",
    "\n",
    "for i in range(T):\n",
    "    trash = input()\n",
    "    solve([int(d) for d in input().split()], i+1)"
   ]
  }
 ],
 "metadata": {
  "kernelspec": {
   "display_name": "Python 3 (ipykernel)",
   "language": "python",
   "name": "python3"
  },
  "language_info": {
   "codemirror_mode": {
    "name": "ipython",
    "version": 3
   },
   "file_extension": ".py",
   "mimetype": "text/x-python",
   "name": "python",
   "nbconvert_exporter": "python",
   "pygments_lexer": "ipython3",
   "version": "3.9.9"
  }
 },
 "nbformat": 4,
 "nbformat_minor": 5
}
