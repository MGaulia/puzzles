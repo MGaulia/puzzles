{
 "cells": [
  {
   "cell_type": "code",
   "execution_count": 102,
   "id": "8d9998c8",
   "metadata": {},
   "outputs": [],
   "source": [
    "def solve(colors, case):\n",
    "    temp = 0\n",
    "    res = []\n",
    "    for c in colors:\n",
    "\n",
    "        if temp + c <= 1e6:\n",
    "            temp = temp+c\n",
    "            res.append(c)\n",
    "        else:\n",
    "            res.append(1e6-temp)\n",
    "            temp = 1e6\n",
    "            \n",
    "\n",
    "    print(\"Case #\" + str(i+1) + \": \" + \" \".join([str(int(c)) for c in res]))"
   ]
  },
  {
   "cell_type": "code",
   "execution_count": 104,
   "id": "6b781401",
   "metadata": {},
   "outputs": [
    {
     "name": "stdout",
     "output_type": "stream",
     "text": [
      "3\n",
      "300000 200000 300000 500000\n",
      "300000 200000 500000 300000\n",
      "300000 500000 300000 200000\n",
      "Case #1: 300000 200000 300000 200000\n",
      "1000000 1000000 0 0\n",
      "0 1000000 1000000 1000000\n",
      "999999 999999 999999 999999\n",
      "Case #2: IMPOSSIBLE\n",
      "768763 148041 178147 984173\n",
      "699508 515362 534729 714381\n",
      "949704 625054 946212 951187\n",
      "Case #3: 699508 148041 152451 0\n"
     ]
    }
   ],
   "source": [
    "T = int(input())\n",
    "\n",
    "for i in range(T):\n",
    "    printers = []\n",
    "    printers.append([int(t) for t in input().split()])\n",
    "    printers.append([int(t) for t in input().split()])\n",
    "    printers.append([int(t) for t in input().split()])\n",
    "    \n",
    "    c = min([i[0] for i in printers])\n",
    "    m = min([i[1] for i in printers])\n",
    "    y = min([i[2] for i in printers])\n",
    "    b = min([i[3] for i in printers])\n",
    "    colors = [c, m, y, b]\n",
    "    if sum(colors) < 1e6:\n",
    "        print(\"Case #\" + str(i+1) + \": IMPOSSIBLE\")\n",
    "    else:\n",
    "        solve(colors, i+1)\n",
    "        \n",
    "        \n",
    "    "
   ]
  }
 ],
 "metadata": {
  "kernelspec": {
   "display_name": "Python 3 (ipykernel)",
   "language": "python",
   "name": "python3"
  },
  "language_info": {
   "codemirror_mode": {
    "name": "ipython",
    "version": 3
   },
   "file_extension": ".py",
   "mimetype": "text/x-python",
   "name": "python",
   "nbconvert_exporter": "python",
   "pygments_lexer": "ipython3",
   "version": "3.9.9"
  }
 },
 "nbformat": 4,
 "nbformat_minor": 5
}
